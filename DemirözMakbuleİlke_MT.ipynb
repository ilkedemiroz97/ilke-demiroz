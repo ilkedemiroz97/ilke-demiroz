{
  "metadata": {
    "language_info": {
      "codemirror_mode": {
        "name": "python",
        "version": 3
      },
      "file_extension": ".py",
      "mimetype": "text/x-python",
      "name": "python",
      "nbconvert_exporter": "python",
      "pygments_lexer": "ipython3",
      "version": "3.8"
    },
    "kernelspec": {
      "name": "python",
      "display_name": "Pyolite",
      "language": "python"
    }
  },
  "nbformat_minor": 4,
  "nbformat": 4,
  "cells": [
    {
      "cell_type": "code",
      "source": "#QUESTION_1\n\nimport numpy as np\ndef bisection(f,a,b):\n    mid=(a+b)/2\n    while abs(input_function(mid))>0:\n        if sign(input_function(mid)) == sign(input_function(a)):\n            a=mid\n        elif sign(input_function(mid))==sign(input_function(b)):\n            b=mid\n    return mid",
      "metadata": {
        "trusted": true
      },
      "execution_count": 1,
      "outputs": []
    },
    {
      "cell_type": "code",
      "source": "#QUESTION_2\nimport numpy as np\ndef bisection(A,z):\n    A = len(array)\n    if (value < array[0]):\n        return -1\n\n    elif (value > array[A-1]):\n        return A\n\n    index_lower = 0 \n    index_upper = A-1\n    while (index_upper-index_lower > 1):\n        index_mid=(index_lower+index_upper) >> 1\n        if (value >= array[index]):\n            index_upper=index_lower\n        else:\n            index_upper=index_mid\n    if (value == array[0]):\n        return 0\n    elif (value == array[A-1]):\n        return A-1\n    else:\n        return index_lower",
      "metadata": {
        "trusted": true
      },
      "execution_count": 2,
      "outputs": []
    },
    {
      "cell_type": "code",
      "source": "#Questıon 4\n\ndef func(x):\n    r=np.power(np.sin(x-2),2)*np.exp(-x**2)\n    return -1*r\nres=opt.minimize_scalar(func)\nx=res.x\nprint(-1*func(x))\n",
      "metadata": {},
      "execution_count": null,
      "outputs": []
    }
  ]
}